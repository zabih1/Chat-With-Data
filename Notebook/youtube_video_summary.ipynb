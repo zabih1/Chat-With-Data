{
 "cells": [
  {
   "cell_type": "code",
   "execution_count": 5,
   "metadata": {},
   "outputs": [],
   "source": [
    "import google.generativeai as genai\n",
    "import os\n",
    "from dotenv import load_dotenv\n",
    "\n",
    "load_dotenv()\n",
    "\n",
    "genai.configure(api_key=os.getenv(\"GEMINI_API_KEY\"))"
   ]
  },
  {
   "cell_type": "code",
   "execution_count": 61,
   "metadata": {},
   "outputs": [
    {
     "data": {
      "text/html": [
       "\n",
       "        <iframe\n",
       "            width=\"560\"\n",
       "            height=\"315\"\n",
       "            src=\"https://www.youtube.com/embed/T-D1OfcDW1M\"\n",
       "            frameborder=\"0\"\n",
       "            allowfullscreen\n",
       "            \n",
       "        ></iframe>\n",
       "        "
      ],
      "text/plain": [
       "<IPython.lib.display.IFrame at 0x1919b0fe9c0>"
      ]
     },
     "execution_count": 61,
     "metadata": {},
     "output_type": "execute_result"
    }
   ],
   "source": [
    "from IPython.display import IFrame\n",
    "\n",
    "IFrame('https://www.youtube.com/embed/T-D1OfcDW1M', width=560, height=315)"
   ]
  },
  {
   "cell_type": "code",
   "execution_count": 7,
   "metadata": {},
   "outputs": [],
   "source": [
    "from youtube_transcript_api import YouTubeTranscriptApi\n",
    "\n",
    "youtube_video_url = \"https://youtu.be/T-D1OfcDW1M?si=g-jIb0p49KZkSVPb\"\n",
    "\n",
    "\n",
    "video_id = youtube_video_url.split(\"youtu.be/\")[1].split(\"?\")[0]"
   ]
  },
  {
   "cell_type": "code",
   "execution_count": 8,
   "metadata": {},
   "outputs": [
    {
     "name": "stdout",
     "output_type": "stream",
     "text": [
      "T-D1OfcDW1M\n"
     ]
    }
   ],
   "source": [
    "print(video_id)"
   ]
  },
  {
   "cell_type": "code",
   "execution_count": 9,
   "metadata": {},
   "outputs": [],
   "source": [
    "ytt_api = YouTubeTranscriptApi()\n",
    "\n",
    "transcript = ytt_api.fetch(video_id)"
   ]
  },
  {
   "cell_type": "code",
   "execution_count": 10,
   "metadata": {},
   "outputs": [
    {
     "name": "stdout",
     "output_type": "stream",
     "text": [
      "Large language models. They are everywhere. They get some things amazingly right and other things very interestingly wrong. My name is Marina Danilevsky. I am a Senior Research Scientist here at IBM Research. And I want to tell you about a framework to help large language models be more accurate and more up to date: Retrieval-Augmented Generation, or RAG. Let's just talk about the \"Generation\" part for a minute. So forget the \"Retrieval-Augmented\". So the generation, this refers to large language models, or LLMs, that generate text in response to a user query, referred to as a prompt. These models can have some undesirable behavior. I want to tell you an anecdote to illustrate this. So my kids, they recently asked me this question: \"In our solar system, what planet has the most moons?\" And my response was, “Oh, that's really great that you're asking this question. I loved space when I was your age.” Of course, that was like 30 years ago. But I know this! I read an article and the article said that it was Jupiter and 88 moons. So that's the answer. Now, actually, there's a couple of things wrong with my answer. First of all, I have no source to support what I'm saying. So even though I confidently said “I read an article, I know the answer!”, I'm not sourcing it. I'm giving the answer off the top of my head. And also, I actually haven't kept up with this for awhile, and my answer is out of date. So we have two problems here. One is no source. And the second problem is that I am out of date.   And these, in fact, are two behaviors that are often observed as problematic when interacting with large language models. They’re LLM challenges. Now, what would have happened if I'd taken a beat and first gone and looked up the answer on a reputable source like NASA? Well, then I would have been able to say, “Ah, okay! So the answer is Saturn with 146 moons.” And in fact, this keeps changing because scientists keep on discovering more and more moons. So I have now grounded my answer in something more \n",
      "believable. I have not hallucinated or made up an answer. Oh, by the way, I didn't leak personal information about how long ago it's been since I was obsessed with space. All right, so what does this have to do with large language models? Well, how would a large language model have answered this question? So let's say that I have a user asking this question about moons. A large language model would confidently say, OK, I have been trained and from what I know in my parameters during my training, the answer is Jupiter. The answer is wrong. But, you know, we don't know. The large language model is very confident in what it answered. Now, what happens when you add this retrieval augmented part here? What does that mean? That means that now, instead of just relying on what the LLM knows, we are adding a content store. This could be open like the internet. This can be closed like some collection of documents, collection of policies, whatever. The point, though, now is that the LLM first goes and talks to the content store and says, “Hey, can you retrieve for me information that is relevant to what the user's query was?” And now, with this retrieval-augmented answer, it's not Jupiter anymore. We know that it is Saturn. What does this look like? Well, first user prompts the LLM with their question. They say, this is what my question was. And originally, if we're just talking to a generative model, the generative model says, “Oh, okay, I know the response. Here it is. Here's my response.”   But now in the RAG framework, the generative model actually has an instruction that says, \"No, no, no.\" \"First, go and retrieve relevant content.\" \"Combine that with the user's question and only then generate the answer.\" So the prompt now has three parts: the instruction to pay attention to, the retrieved content, together with the user's question. Now give a response. And in fact, now you can give evidence for why your response was what it was.   So now hopefully you can see, how does RAG help the two LLM challenges that I had mentioned before?   So first of all, I'll start with the out of date part. Now, instead of having to retrain your model, if new information comes up, like, hey, we found some more moons-- now to Jupiter again, maybe it'll be Saturn again in the future. All you have to do is you augment your data store with new information, update information. So now the next time that a user comes and asks the question, we're ready. We just go ahead and retrieve the most up to date information. The second problem, source. Well, the large language model is now being instructed to pay attention to primary source data before giving its response. And in fact, now being able to give evidence. This makes it less likely to hallucinate or to leak data because it is less likely to rely only on information that it learned during training. It also allows us to get the model to have a behavior that can be very positive, which is knowing when to say, “I don't know.” If the user's question cannot be reliably answered based on your data store, the model should say, \"I don't know,\" instead of making up something that is believable and may mislead the user. This can have a negative effect as well though, because if the retriever is not sufficiently good to give the large language model the best, most high-quality grounding information, then maybe the user's query that is answerable doesn't get an answer. So this is actually why lots of folks, including many of us here at IBM, are working the problem on both sides. We are both working to improve the retriever to give the large language model the best quality data on which to ground its response, and also the generative part so that the LLM can give the richest, best response finally to the user when it generates the answer. Thank you for learning more about RAG and like and subscribe to the channel. Thank you. \n"
     ]
    }
   ],
   "source": [
    "full_transcript = \"\"\n",
    "for segment in transcript:\n",
    "    full_transcript += segment.text + \" \"\n",
    "\n",
    "print(full_transcript)"
   ]
  },
  {
   "cell_type": "markdown",
   "metadata": {},
   "source": [
    "## prompt"
   ]
  },
  {
   "cell_type": "code",
   "execution_count": 11,
   "metadata": {},
   "outputs": [],
   "source": [
    "from langchain_core.prompts import PromptTemplate\n",
    "\n",
    "template = \"\"\"\n",
    "# Role: YouTube Video Summarizer\n",
    "\n",
    "## Task\n",
    "Provide a concise, informative summary of the YouTube video transcript below.\n",
    "\n",
    "## Guidelines\n",
    "- Focus on the main ideas, key points, and essential takeaways\n",
    "- Organize information in a structured, easy-to-read format with bullet points\n",
    "- Include any significant conclusions or insights presented\n",
    "- Keep the summary under 250 words\n",
    "- Exclude unnecessary details or tangential information\n",
    "\n",
    "## Transcript\n",
    "\n",
    "{full_transcript}\n",
    "\n",
    "## Output Format\n",
    "- Title: [Inferred title based on content]\n",
    "- Main Topic: [1-2 sentence description of what the video is about]\n",
    "- Key Points:\n",
    "  • [Point 1]\n",
    "  • [Point 2]\n",
    "  • [Point 3]\n",
    "  • [Additional points as needed]\n",
    "- Conclusion: [Main takeaway or call to action]\n",
    "\"\"\"\n",
    "\n",
    "prompt_template = PromptTemplate.from_template(template)\n",
    "prompt = prompt_template.format_prompt(full_transcript = full_transcript)"
   ]
  },
  {
   "cell_type": "code",
   "execution_count": 12,
   "metadata": {},
   "outputs": [],
   "source": [
    "from dotenv import load_dotenv\n",
    "import os\n",
    "api_key = os.getenv(\"GEMINI_API_KEY\")\n",
    "load_dotenv()\n",
    "\n",
    "from langchain_google_genai import ChatGoogleGenerativeAI\n",
    "\n",
    "llm = ChatGoogleGenerativeAI(api_key=api_key, model=\"gemini-2.0-flash\")"
   ]
  },
  {
   "cell_type": "code",
   "execution_count": 13,
   "metadata": {},
   "outputs": [],
   "source": [
    "summary = llm.invoke(prompt)"
   ]
  },
  {
   "cell_type": "code",
   "execution_count": 14,
   "metadata": {},
   "outputs": [
    {
     "name": "stdout",
     "output_type": "stream",
     "text": [
      "- Title: Retrieval-Augmented Generation (RAG) for More Accurate LLMs\n",
      "- Main Topic: The video explains Retrieval-Augmented Generation (RAG) as a framework to improve the accuracy and up-to-date nature of large language models (LLMs). It addresses the issues of LLMs providing outdated or unsourced information.\n",
      "- Key Points:\n",
      "  • LLMs can generate text in response to user queries (prompts) but may provide inaccurate or outdated information without proper sourcing.\n",
      "  • RAG augments LLMs with a content store (e.g., the internet or a collection of documents) that the LLM consults before generating a response.\n",
      "  • The LLM first retrieves relevant information from the content store based on the user's query.\n",
      "  • The retrieved content is combined with the user's question, and the LLM generates an answer based on this combined input, providing evidence for its response.\n",
      "  • RAG helps address the challenges of LLMs providing outdated information by allowing for easy updating of the content store.\n",
      "  • RAG improves sourcing by instructing the LLM to prioritize primary source data, reducing hallucinations and data leaks.\n",
      "  • A good retriever is essential to provide the LLM with the best quality data.\n",
      "- Conclusion: RAG enhances LLMs by ensuring responses are more accurate, up-to-date, and grounded in reliable sources, while ongoing research focuses on improving both the retrieval and generative components of the framework.\n"
     ]
    }
   ],
   "source": [
    "print(summary.content)"
   ]
  },
  {
   "cell_type": "markdown",
   "metadata": {},
   "source": [
    "# Create functions"
   ]
  },
  {
   "cell_type": "code",
   "execution_count": 50,
   "metadata": {},
   "outputs": [],
   "source": [
    "from youtube_transcript_api import YouTubeTranscriptApi\n",
    "from langchain.prompts import PromptTemplate\n",
    "from langchain_google_genai import ChatGoogleGenerativeAI\n",
    "from youtube_transcript_api.proxies import WebshareProxyConfig\n",
    "\n",
    "\n",
    "def get_video_transcript(video_id):\n",
    "\n",
    "    ytt_api = YouTubeTranscriptApi()\n",
    "    \n",
    "\n",
    "    transcript = ytt_api.fetch(video_id)\n",
    "    \n",
    "    full_transcript = \"\"\n",
    "    for segment in transcript:\n",
    "        full_transcript += segment.text + \" \"\n",
    "    return full_transcript\n",
    "\n",
    "def generate_summary(video_id, api_key):\n",
    "\n",
    "    full_transcript = get_video_transcript(video_id)\n",
    "\n",
    "    template = \"\"\"\n",
    "    # Role: YouTube Video Summarizer\n",
    "\n",
    "    ## Task\n",
    "    Provide a concise, informative summary of the YouTube video transcript below.\n",
    "\n",
    "    ## Guidelines\n",
    "    - Focus on the main ideas, key points, and essential takeaways\n",
    "    - Organize information in a structured, easy-to-read format with bullet points\n",
    "    - Include any significant conclusions or insights presented\n",
    "    - Keep the summary under 250 words\n",
    "    - Exclude unnecessary details or tangential information\n",
    "\n",
    "    ## Transcript\n",
    "\n",
    "    {full_transcript}\n",
    "\n",
    "    ## Output Format\n",
    "    - Title: [Inferred title based on content]\n",
    "    - Main Topic: [1-2 sentence description of what the video is about]\n",
    "    - Key Points:\n",
    "      • [Point 1]\n",
    "      • [Point 2]\n",
    "      • [Point 3]\n",
    "      • [Additional points as needed]\n",
    "    - Conclusion: [Main takeaway or call to action]\n",
    "    \"\"\"\n",
    "\n",
    "    prompt_template = PromptTemplate.from_template(template)\n",
    "    prompt = prompt_template.format(full_transcript=full_transcript)\n",
    "\n",
    "    llm = ChatGoogleGenerativeAI(api_key=api_key, model=\"gemini-2.0-flash\")\n",
    "    summary = llm.invoke(prompt)\n",
    "    \n",
    "    return summary.content\n",
    "\n"
   ]
  },
  {
   "cell_type": "code",
   "execution_count": 52,
   "metadata": {},
   "outputs": [
    {
     "name": "stdout",
     "output_type": "stream",
     "text": [
      "- Title: Retrieval-Augmented Generation (RAG) for More Accurate LLMs\n",
      "- Main Topic: This video explains Retrieval-Augmented Generation (RAG), a framework designed to improve the accuracy and up-to-date nature of large language models (LLMs) by incorporating external knowledge retrieval.\n",
      "- Key Points:\n",
      "    • LLMs can provide inaccurate or outdated information due to their reliance on training data.\n",
      "    • RAG addresses these issues by having the LLM first retrieve relevant information from a content store (e.g., the internet or a document collection) before generating a response.\n",
      "    • The process involves the user prompting the LLM, the LLM retrieving relevant content, and then generating an answer based on both the user's question and the retrieved information.\n",
      "    • RAG helps LLMs stay up-to-date by allowing the content store to be updated without retraining the entire model.\n",
      "    • It also improves sourcing by instructing the LLM to rely on primary source data, reducing the likelihood of hallucination or data leaks and enabling the model to say \"I don't know\" when appropriate.\n",
      "    • Improving both the retriever and the generative model is crucial for delivering high-quality, accurate responses.\n",
      "- Conclusion: RAG is a promising approach to enhance the reliability and trustworthiness of LLMs by grounding their responses in external, verifiable information.\n"
     ]
    }
   ],
   "source": [
    "print(generate_summary(video_id, api_key))"
   ]
  },
  {
   "cell_type": "code",
   "execution_count": null,
   "metadata": {},
   "outputs": [],
   "source": []
  },
  {
   "cell_type": "code",
   "execution_count": null,
   "metadata": {},
   "outputs": [],
   "source": []
  }
 ],
 "metadata": {
  "kernelspec": {
   "display_name": "base",
   "language": "python",
   "name": "python3"
  },
  "language_info": {
   "codemirror_mode": {
    "name": "ipython",
    "version": 3
   },
   "file_extension": ".py",
   "mimetype": "text/x-python",
   "name": "python",
   "nbconvert_exporter": "python",
   "pygments_lexer": "ipython3",
   "version": "3.12.7"
  }
 },
 "nbformat": 4,
 "nbformat_minor": 2
}
